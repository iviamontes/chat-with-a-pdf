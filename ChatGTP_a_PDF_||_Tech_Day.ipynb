{
  "nbformat": 4,
  "nbformat_minor": 0,
  "metadata": {
    "colab": {
      "provenance": [],
      "authorship_tag": "ABX9TyP1sZ9+6F2oQ5C8BGzzuSle",
      "include_colab_link": true
    },
    "kernelspec": {
      "name": "python3",
      "display_name": "Python 3"
    },
    "language_info": {
      "name": "python"
    }
  },
  "cells": [
    {
      "cell_type": "markdown",
      "metadata": {
        "id": "view-in-github",
        "colab_type": "text"
      },
      "source": [
        "<a href=\"https://colab.research.google.com/github/iviamontes/chat-with-a-pdf/blob/master/ChatGTP_a_PDF_%7C%7C_Tech_Day.ipynb\" target=\"_parent\"><img src=\"https://colab.research.google.com/assets/colab-badge.svg\" alt=\"Open In Colab\"/></a>"
      ]
    },
    {
      "cell_type": "code",
      "source": [
        "import os\n",
        "os.environ[\"OPENAI_API_KEY\"] = \"...\"\n",
        "os.environ[\"PINECONE_API_KEY\"] = \"...\"\n",
        "os.environ[\"PINECONE_API_ENV\"] = \"...\""
      ],
      "metadata": {
        "id": "xhhV4xFHIhfY"
      },
      "execution_count": 2,
      "outputs": []
    },
    {
      "cell_type": "code",
      "source": [
        "# Install packages\n",
        "!pip install openai langchain pypdf\n",
        "!pip install pinecone-client\n",
        "!pip install tiktoken"
      ],
      "metadata": {
        "id": "rxi-k6VxHsLP"
      },
      "execution_count": null,
      "outputs": []
    },
    {
      "cell_type": "code",
      "execution_count": null,
      "metadata": {
        "id": "nevX3cxoFteu"
      },
      "outputs": [],
      "source": [
        "from google.colab import drive\n",
        "drive.mount('/content/drive', force_remount=True)\n",
        "\n",
        "BASE_DIR = \"/content/drive/MyDrive/Colab Notebooks\"\n",
        "os.chdir(BASE_DIR)"
      ]
    },
    {
      "cell_type": "markdown",
      "source": [
        "**STEP 1- Import some libraries and load Associate Handbook PDF.**"
      ],
      "metadata": {
        "id": "Elo3a3ZQX7NJ"
      }
    },
    {
      "cell_type": "code",
      "source": [
        "from langchain.document_loaders import PyPDFLoader\n",
        "from langchain.document_loaders import UnstructuredPDFLoader\n",
        "\n",
        "from langchain.text_splitter import RecursiveCharacterTextSplitter\n",
        "\n",
        "loader = PyPDFLoader(\"./Associate_Handbook_March_2023.pdf\")\n",
        "pages = loader.load_and_split()"
      ],
      "metadata": {
        "id": "0DqL3yohHl_z"
      },
      "execution_count": 6,
      "outputs": []
    },
    {
      "cell_type": "markdown",
      "source": [
        "**STEP 2- Split document in chunks of 1000 characters**"
      ],
      "metadata": {
        "id": "cvAI4EdqYhzd"
      }
    },
    {
      "cell_type": "code",
      "source": [
        "#chunk data into smaller documents\n",
        "text_splitter = RecursiveCharacterTextSplitter(chunk_size=1000, chunk_overlap=0)\n",
        "texts = text_splitter.split_documents(pages)\n",
        "\n",
        "print(f'{len(texts)} chunks created')\n",
        "print(texts[1])"
      ],
      "metadata": {
        "colab": {
          "base_uri": "https://localhost:8080/"
        },
        "id": "oJ1tXtO2HpDv",
        "outputId": "e7605b1d-7a50-4d56-919d-bc4fecbfaac9"
      },
      "execution_count": 13,
      "outputs": [
        {
          "output_type": "stream",
          "name": "stdout",
          "text": [
            "151 chunks created\n",
            "page_content='3OUR MISSION\\nTo provide quality home furnishings, at excellent values,  \\nin an exciting and fun environment.OUR VISION\\nTo be the ultimate furniture and mattress store.\\nOUR PURPOSE\\nTo enrich people’s lives \\nand make the world a better place.\\nDear Fellow Associate:\\nDuring the year 1971, with a handful of dedicated people, we began \\nwhat is known today as one of the nation’s finest furniture retailers. \\nWhile the handful of people has grown, our need for dedicated \\nAssociates has not changed. CITY will only be as successful as \\nthe people who sell and extend service to our customers. Each \\nAssociate is important to the success of our company.\\nThis handbook is designed to acquaint you with our organization, \\nprinciples, policies and benefits. We are sure you will find this \\ninformation helpful to you as a new Associate.\\nWe, personally, welcome you to our family of Associates and wish \\nyou every success in your new position.\\nSincerely,\\nKeith Koenig, Chairman   Andrew Koenig, CEO' metadata={'source': './Associate_Handbook_March_2023.pdf', 'page': 1}\n"
          ]
        }
      ]
    },
    {
      "cell_type": "markdown",
      "source": [
        "**STEP 3- Create Semantic Index**"
      ],
      "metadata": {
        "id": "6LyHtbltbc2j"
      }
    },
    {
      "cell_type": "code",
      "source": [
        "from langchain.vectorstores import Pinecone\n",
        "from langchain.embeddings.openai import OpenAIEmbeddings\n",
        "import pinecone\n",
        "\n",
        "#get embdding\n",
        "embeddings = OpenAIEmbeddings(openai_api_key=os.getenv(\"OPENAI_API_KEY\"))\n",
        "\n",
        "#initialize Pinecone\n",
        "pinecone.init(api_key=os.getenv(\"PINECONE_API_KEY\"), environment=os.getenv(\"PINECONE_API_ENV\"))\n",
        "index_name=\"handbook\"\n",
        "namespace = \"standards\"\n",
        "\n",
        "#store vectors in Pinecone (Vector DB)\n",
        "docsearch = Pinecone.from_texts([t.page_content for t in texts], embeddings, index_name=index_name, namespace=namespace)"
      ],
      "metadata": {
        "id": "LWQG_bIEX8Um"
      },
      "execution_count": 9,
      "outputs": []
    },
    {
      "cell_type": "markdown",
      "source": [
        "**STEP 4 - Ask/Retrieve**"
      ],
      "metadata": {
        "id": "5TRE2yiKH3z4"
      }
    },
    {
      "cell_type": "code",
      "source": [
        "from langchain.llms import OpenAI\n",
        "from langchain.chains.question_answering import load_qa_chain\n",
        "\n",
        "llm = OpenAI(temperature=0, openai_api_key=os.getenv('OPENAI_API_KEY'))\n",
        "chain = load_qa_chain(llm, chain_type=\"stuff\")\n"
      ],
      "metadata": {
        "id": "C20QQma2eyQI"
      },
      "execution_count": 10,
      "outputs": []
    },
    {
      "cell_type": "code",
      "source": [
        "query = \"What are CITY Furniture core values?\"\n",
        "docs = docsearch.similarity_search(query)\n",
        "\n",
        "chain.run(input_documents=docs, question=query)"
      ],
      "metadata": {
        "id": "Wci667J4fmH5",
        "colab": {
          "base_uri": "https://localhost:8080/",
          "height": 53
        },
        "outputId": "f545f7e4-8d49-440a-f976-faeeef8eedc4"
      },
      "execution_count": 14,
      "outputs": [
        {
          "output_type": "execute_result",
          "data": {
            "text/plain": [
              "\" CITY Furniture's core values are to provide quality home furnishings, at excellent values, in an exciting and fun environment, to be the ultimate furniture and mattress store, and to enrich people’s lives and make the world a better place.\""
            ],
            "application/vnd.google.colaboratory.intrinsic+json": {
              "type": "string"
            }
          },
          "metadata": {},
          "execution_count": 14
        }
      ]
    }
  ]
}